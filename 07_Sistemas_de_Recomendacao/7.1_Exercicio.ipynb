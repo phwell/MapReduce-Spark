{
 "cells": [
  {
   "cell_type": "markdown",
   "metadata": {},
   "source": [
    "# Sistema de recomendação \n",
    "\n",
    "O tutorial de recomendação clássico usa o [conjunto de dados movielens] (https://grouplens.org/datasets/movielens/). É semelhante a usar o conjunto de dados íris ou MNIST para outros algoritmos. Vamos fazer um código para ter uma ideia de como tudo isso funciona!\n",
    "\n",
    "\n",
    "Procurando mais conjuntos de dados? Confira: https://gist.github.com/entaroadun/1653794"
   ]
  },
  {
   "cell_type": "code",
   "execution_count": 1,
   "metadata": {},
   "outputs": [],
   "source": [
    "from pyspark.sql import SparkSession"
   ]
  },
  {
   "cell_type": "code",
   "execution_count": 2,
   "metadata": {},
   "outputs": [],
   "source": [
    "spark = SparkSession.builder.appName('rec').getOrCreate()"
   ]
  },
  {
   "cell_type": "markdown",
   "metadata": {},
   "source": [
    "Com a filtragem colaborativa, fazemos previsões (filtragem) sobre os interesses de um usuário, coletando preferências ou informações de gosto de muitos usuários (colaborando). A suposição subjacente é que, se um usuário A tem a mesma opinião que um usuário B sobre um problema, é mais provável que A tenha a opinião de B sobre um assunto diferente x do que ter a opinião sobre x de um usuário escolhido aleatoriamente.\n",
    "\n",
    "A imagem abaixo (da Wikipedia) mostra um exemplo de filtragem colaborativa. No início, as pessoas avaliam itens diferentes (como vídeos, imagens, jogos). Em seguida, o sistema faz previsões sobre a classificação de um usuário para um item ainda não classificado. As novas previsões são construídas sobre as classificações existentes de outros usuários com classificações semelhantes às do usuário ativo. Na imagem, o sistema prevê que o usuário não gostará do vídeo.\n",
    "\n",
    "<img src = https: //upload.wikimedia.org/wikipedia/commons/5/52/Collaborative_filtering.gif />"
   ]
  },
  {
   "cell_type": "markdown",
   "metadata": {},
   "source": [
    "A biblioteca Spark MLlib para Machine Learning fornece uma implementação de Filtragem Colaborativa usando Mínimos Quadrados Alternados. A implementação em MLlib tem estes parâmetros:\n",
    "\n",
    "* numBlocks é o número de blocos usados para paralelizar a computação (definido como -1 para configuração automática).\n",
    "* classificação é o número de fatores latentes no modelo.\n",
    "* iterations é o número de iterações a serem executadas.\n",
    "* lambda especifica o parâmetro de regularização no ALS.\n",
    "* implicitPrefs especifica se deve ser usada a variante ALS de feedback explícito ou uma adaptada para dados de feedback implícitos.\n",
    "* alfa é um parâmetro aplicável à variante de feedback implícito do ALS que governa a confiança da linha de base nas observações de preferência.\n",
    "\n",
    "Vamos ver tudo isso em ação!"
   ]
  },
  {
   "cell_type": "code",
   "execution_count": 3,
   "metadata": {},
   "outputs": [],
   "source": [
    "from pyspark.ml.evaluation import RegressionEvaluator\n",
    "from pyspark.ml.recommendation import ALS"
   ]
  },
  {
   "cell_type": "code",
   "execution_count": 4,
   "metadata": {},
   "outputs": [],
   "source": [
    "data = spark.read.csv('movielens_ratings.csv',inferSchema=True,header=True)"
   ]
  },
  {
   "cell_type": "code",
   "execution_count": 5,
   "metadata": {},
   "outputs": [
    {
     "data": {
      "text/plain": [
       "Row(movieId=2, rating=3.0, userId=0)"
      ]
     },
     "execution_count": 5,
     "metadata": {},
     "output_type": "execute_result"
    }
   ],
   "source": [
    "data.head()"
   ]
  },
  {
   "cell_type": "code",
   "execution_count": 6,
   "metadata": {},
   "outputs": [
    {
     "name": "stdout",
     "output_type": "stream",
     "text": [
      "+-------+------------------+------------------+------------------+\n",
      "|summary|           movieId|            rating|            userId|\n",
      "+-------+------------------+------------------+------------------+\n",
      "|  count|              1501|              1501|              1501|\n",
      "|   mean| 49.40572951365756|1.7741505662891406|14.383744170552964|\n",
      "| stddev|28.937034065088994| 1.187276166124803| 8.591040424293272|\n",
      "|    min|                 0|               1.0|                 0|\n",
      "|    max|                99|               5.0|                29|\n",
      "+-------+------------------+------------------+------------------+\n",
      "\n"
     ]
    }
   ],
   "source": [
    "data.describe().show()"
   ]
  },
  {
   "cell_type": "markdown",
   "metadata": {},
   "source": [
    "Podemos fazer uma divisão para avaliar o desempenho de nosso modelo, mas tenha em mente que é muito difícil saber de forma conclusiva o quão bem um sistema de recomendação está realmente funcionando para alguns tópicos. Especialmente se a subjetividade estiver envolvida, por exemplo, nem todo mundo que adora Star Wars vai adorar a jornada nas estrelas, embora um sistema de recomendação possa sugerir o contrário."
   ]
  },
  {
   "cell_type": "code",
   "execution_count": 7,
   "metadata": {},
   "outputs": [],
   "source": [
    "# Conjunto de dados menor, então usaremos 0,8 / 0,2\n",
    "(training, test) = data.randomSplit([0.8, 0.2])"
   ]
  },
  {
   "cell_type": "code",
   "execution_count": 8,
   "metadata": {},
   "outputs": [],
   "source": [
    "# Construir o modelo de recomendação usando ALS nos dados de treinamento\n",
    "als = ALS(maxIter=5, regParam=0.01, userCol=\"userId\", itemCol=\"movieId\", ratingCol=\"rating\")\n",
    "model = als.fit(training)"
   ]
  },
  {
   "cell_type": "markdown",
   "metadata": {},
   "source": [
    "Agora vamos ver como o modelo se saiu!"
   ]
  },
  {
   "cell_type": "code",
   "execution_count": 9,
   "metadata": {},
   "outputs": [],
   "source": [
    "# Avalie o modelo calculando o RMSE nos dados de teste\n",
    "predictions = model.transform(test)"
   ]
  },
  {
   "cell_type": "code",
   "execution_count": 10,
   "metadata": {},
   "outputs": [
    {
     "name": "stdout",
     "output_type": "stream",
     "text": [
      "+-------+------+------+------------+\n",
      "|movieId|rating|userId|  prediction|\n",
      "+-------+------+------+------------+\n",
      "|     31|   1.0|    26|   0.5064666|\n",
      "|     85|   1.0|    13|   1.5420086|\n",
      "|     85|   1.0|    23|   1.8684256|\n",
      "|     85|   1.0|    25|   1.6629062|\n",
      "|     85|   1.0|    29|   1.1261266|\n",
      "|     65|   1.0|    16|   1.2183961|\n",
      "|     65|   2.0|     3|   2.0900104|\n",
      "|     65|   1.0|    19|   1.0170004|\n",
      "|     53|   1.0|    23| 0.081142426|\n",
      "|     53|   3.0|    14|   3.8325825|\n",
      "|     78|   1.0|     1|  0.56496745|\n",
      "|     78|   1.0|     4|  0.67932105|\n",
      "|     34|   4.0|     2|   0.0833499|\n",
      "|     81|   1.0|     6|    1.298579|\n",
      "|     81|   1.0|    16|  -1.2940426|\n",
      "|     81|   2.0|     9|   2.2675438|\n",
      "|     81|   2.0|    29|   1.8942225|\n",
      "|     28|   3.0|     1|   1.2952838|\n",
      "|     28|   1.0|    14|0.0031218529|\n",
      "|     76|   1.0|    20|   0.7271807|\n",
      "+-------+------+------+------------+\n",
      "only showing top 20 rows\n",
      "\n"
     ]
    }
   ],
   "source": [
    "predictions.show()"
   ]
  },
  {
   "cell_type": "code",
   "execution_count": 11,
   "metadata": {},
   "outputs": [
    {
     "name": "stdout",
     "output_type": "stream",
     "text": [
      "Root-mean-square error = 1.560783677189561\n"
     ]
    }
   ],
   "source": [
    "evaluator = RegressionEvaluator(metricName=\"rmse\", labelCol=\"rating\",predictionCol=\"prediction\")\n",
    "rmse = evaluator.evaluate(predictions)\n",
    "print(\"Root-mean-square error = \" + str(rmse))"
   ]
  },
  {
   "cell_type": "markdown",
   "metadata": {},
   "source": [
    "O RMSE descreveu nosso erro em termos da coluna de classificação de estrelas."
   ]
  },
  {
   "cell_type": "markdown",
   "metadata": {},
   "source": [
    "Agora que temos o modelo, como você realmente forneceria uma recomendação a um usuário?\n",
    "\n",
    "Da mesma forma que fizemos com os dados de teste! Por exemplo:"
   ]
  },
  {
   "cell_type": "code",
   "execution_count": 12,
   "metadata": {},
   "outputs": [],
   "source": [
    "single_user = test.filter(test['userId']==11).select(['movieId','userId'])"
   ]
  },
  {
   "cell_type": "code",
   "execution_count": 13,
   "metadata": {},
   "outputs": [
    {
     "name": "stdout",
     "output_type": "stream",
     "text": [
      "+-------+------+\n",
      "|movieId|userId|\n",
      "+-------+------+\n",
      "|     13|    11|\n",
      "|     16|    11|\n",
      "|     30|    11|\n",
      "|     35|    11|\n",
      "|     43|    11|\n",
      "|     51|    11|\n",
      "|     89|    11|\n",
      "|     90|    11|\n",
      "+-------+------+\n",
      "\n"
     ]
    }
   ],
   "source": [
    "# O usuário teve 10 avaliações no conjunto de dados de teste\n",
    "# Realisticamente, deve ser algum tipo de conjunto de suporte!\n",
    "single_user.show()"
   ]
  },
  {
   "cell_type": "code",
   "execution_count": 14,
   "metadata": {},
   "outputs": [],
   "source": [
    "reccomendations = model.transform(single_user)"
   ]
  },
  {
   "cell_type": "code",
   "execution_count": 16,
   "metadata": {},
   "outputs": [
    {
     "name": "stdout",
     "output_type": "stream",
     "text": [
      "+-------+------+----------+\n",
      "|movieId|userId|prediction|\n",
      "+-------+------+----------+\n",
      "|     30|    11|  3.263875|\n",
      "|     35|    11| 3.1437485|\n",
      "|     51|    11| 1.2200018|\n",
      "|     16|    11| 1.2183044|\n",
      "|     43|    11| 0.3729321|\n",
      "|     90|    11|0.20518604|\n",
      "|     13|    11|-0.7660935|\n",
      "|     89|    11|-0.7715881|\n",
      "+-------+------+----------+\n",
      "\n"
     ]
    }
   ],
   "source": [
    "reccomendations.orderBy('prediction',ascending=False).show()"
   ]
  }
 ],
 "metadata": {
  "anaconda-cloud": {},
  "kernelspec": {
   "display_name": "Python 3",
   "language": "python",
   "name": "python3"
  },
  "language_info": {
   "codemirror_mode": {
    "name": "ipython",
    "version": 3
   },
   "file_extension": ".py",
   "mimetype": "text/x-python",
   "name": "python",
   "nbconvert_exporter": "python",
   "pygments_lexer": "ipython3",
   "version": "3.7.4"
  }
 },
 "nbformat": 4,
 "nbformat_minor": 1
}
